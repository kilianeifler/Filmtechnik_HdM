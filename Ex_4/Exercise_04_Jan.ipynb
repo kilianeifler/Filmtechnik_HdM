{
 "cells": [
  {
   "cell_type": "markdown",
   "metadata": {},
   "source": [
    "# Exercise 4 - Tone mapping"
   ]
  },
  {
   "cell_type": "code",
   "execution_count": null,
   "metadata": {},
   "outputs": [],
   "source": [
    "# Imports\n",
    "import numpy as np\n",
    "import numpy.matlib\n",
    "from matplotlib import pyplot as plt\n",
    "from scipy import ndimage\n",
    "from scipy import misc\n",
    "from scipy import fftpack\n",
    "import skimage\n",
    "import imageio\n",
    "\n",
    "from ipywidgets import interact, interactive, fixed, interact_manual\n",
    "import ipywidgets as widgets\n",
    "\n",
    "plt.rcParams['figure.figsize'] = (16.0, 8.0)\n",
    "\n",
    "# for 16 bit PNG support in imageio if needed, imageio.plugins.freeimage.download() might need to be run once per system (or exr/hdr/pgm/ppm support)"
   ]
  },
  {
   "cell_type": "code",
   "execution_count": null,
   "metadata": {},
   "outputs": [],
   "source": [
    "# Some useful functions\n",
    "# Apply matrix to image\n",
    "def applyColorMatrix(values, mat):\n",
    "    tmp = values.reshape(-1, 3)\n",
    "    tmp = np.matmul(tmp, mat)\n",
    "    return np.reshape(tmp, values.shape)\n",
    "\n",
    "# sRGB nonlinearity\n",
    "def lin2srgb(x):\n",
    "    result = np.zeros(x.shape)\n",
    "    result[x >  0.0031308] = 1.055 * np.power(x[x > 0.0031308], 1/2.4) - 0.055\n",
    "    result[x <= 0.0031308] = 12.92 * x[x <= 0.0031308]\n",
    "    return result\n",
    "\n",
    "# sRGB nonlinearity\n",
    "def srgb2lin(x):\n",
    "    result = np.zeros(x.shape)\n",
    "    result[x >  0.04045] = np.power((x[x >  0.04045] + 0.055)/1.055, 2.4)\n",
    "    result[x <= 0.04045] = x[x <= 0.04045]/12.92\n",
    "    return result\n",
    "\n",
    "# Plot the tonemapping curves that you will implement later\n",
    "def curvePlot(x, y, y_additional = None):\n",
    "    oneline = np.ones(x.shape)\n",
    "\n",
    "    plt.plot(x, y, 'g')\n",
    "    if not y_additional is None:\n",
    "        plt.plot(x, y_additional, 'c')\n",
    "    \n",
    "    plt.plot(x, x, 'r:')\n",
    "    plt.plot(x, oneline, 'w:', label='Monitor white')\n",
    "    plt.plot(x, 0.001*oneline, 'w:', label='Monitor black')\n",
    "    plt.plot(x, 0.0001*oneline, 'w:', label='Cine black')\n",
    "    plt.plot(x, oneline, 'w:', label='Monitor white')\n",
    "    plt.xscale('log')\n",
    "    plt.yscale('log')\n",
    "    plt.xlabel('HDR input')\n",
    "    plt.ylabel('HDR output')\n",
    "    plt.grid()"
   ]
  },
  {
   "cell_type": "code",
   "execution_count": null,
   "metadata": {
    "tags": []
   },
   "outputs": [],
   "source": [
    "# Load the characterized image\n",
    "img = np.load('../exercise_03/hdr_image_pinv.npy')\n",
    "\n",
    "# Plot to verify everything looks as expected\n",
    "plt.style.use('dark_background')\n",
    "plt.imshow( lin2srgb( img ).clip( 0.0, 1.0 ) );"
   ]
  },
  {
   "cell_type": "markdown",
   "metadata": {},
   "source": [
    "## 4.1 Tone mapping\n",
    "\n",
    "When displaying your images by simply adjusting exposure, but clipping all values beyond 1 you may have noticed nasty artifacts. To get a better representation of high dynamic range images on standard dynamic range monitors several tone-mapping operators exist."
   ]
  },
  {
   "cell_type": "markdown",
   "metadata": {},
   "source": [
    "### 4.1.1 Simple log\n",
    "\n",
    "Finish the anonymous function TM_Log2 that allows you to display a specified number of stops below peak white on your monitor:\n",
    "\n",
    "\\begin{equation*}\n",
    "\\epsilon_M \\text{ is your machine expsilon} \\\\ \\\\\n",
    "y = \\frac{\\log_2(\\max(\\epsilon_M, \\frac{x}{\\max(x)}))}{P_{stops}} + 1 \\\\ \\\\\n",
    "x\\in\\mathbb{R}^+, P_{stops}\\in\\mathbb{R}^+\n",
    "\\end{equation*}\n",
    "\n",
    "Note: While most tone mapping algorithms map from linear space to linear space to be independent from the monitor EOTF this special tone mapper directly maps to display space."
   ]
  },
  {
   "cell_type": "code",
   "execution_count": null,
   "metadata": {},
   "outputs": [],
   "source": [
    "# Define the tonemapping algorithm described above\n",
    "def tmLog2(x, stops):\n",
    "    return np.log2(np.maximum(x / np.amax(x), np.finfo(float).eps)) / stops + 1 #R return # Your code here\n",
    "\n",
    "# How many stops below white do we want to see?\n",
    "stops = 15\n",
    "\n",
    "# Plot the result\n",
    "plt.subplot(1,2,1)\n",
    "# plt.figure(figsize=(12, 8))\n",
    "plt.imshow( tmLog2( img, stops  ).clip(0.0,1.0), interpolation = 'catrom' )\n",
    "plt.title(\"Your Result\")\n",
    "plt.subplot(1,2,2)\n",
    "fig = plt.imshow( plt.imread( \"exercise_04_results_for_reference/TM_simple_log_result.png\" ), interpolation = 'catrom' )\n",
    "plt.axis('off')\n",
    "plt.title(\"Reference Result\");"
   ]
  },
  {
   "cell_type": "markdown",
   "metadata": {},
   "source": [
    "### 4.1.2 Exposure in linear/logarithmic\n",
    "\n",
    "Finish the anonymous function TM_Exposure that allows you to change exposure before display:\n",
    "\\begin{equation*}\n",
    "y = x * 2^{P_{exposure}} \\\\ \\\\\n",
    "x\\in\\mathbb{R}^+, P_{exposure}\\in\\mathbb{R}\n",
    "\\end{equation*}\n",
    "\n",
    "You can also change exposure in log space. Implement the TM_Exposure function a second time:\n",
    "\\begin{equation*}\n",
    "\\epsilon_M \\text{ is your machine expsilon} \\\\ \\\\\n",
    "y = 2^{\\log_2(\\max(\\epsilon_M, x)) + P_{exposure}} \\\\ \\\\\n",
    "x\\in\\mathbb{R}^+, P_{exposure}\\in\\mathbb{R}\n",
    "\\end{equation*}\n",
    "\n",
    "You should get the exact same results for both formulas."
   ]
  },
  {
   "cell_type": "code",
   "execution_count": null,
   "metadata": {},
   "outputs": [],
   "source": [
    "def tmExposure(x, exposure):\n",
    "    return x * ( np.power( 2.0, exposure ) ) #R return # Your code here\n",
    "def tmExposureLog(x, exposure):\n",
    "    return  np.power( 2.0, np.log2( np.maximum( np.finfo(float).eps, x) ) + exposure ) #R return # Your code here"
   ]
  },
  {
   "cell_type": "code",
   "execution_count": null,
   "metadata": {},
   "outputs": [],
   "source": [
    "# Play around with exposure\n",
    "exposure = -1\n",
    "\n",
    "# Plot\n",
    "plt.subplot(1,3,1)\n",
    "x = np.logspace(-6, 2)\n",
    "# Exchange for \"tmExposureLog\". Are the results the same?\n",
    "curvePlot(x, tmExposure(x, exposure).clip(0.0,1.0))\n",
    "\n",
    "plt.subplot(1,3,2)\n",
    "plt.imshow( lin2srgb( tmExposure( img, exposure ).clip( 0.0, 1.0 ) ), interpolation = 'catrom' )\n",
    "plt.title(\"Your Result\");\n",
    "\n",
    "plt.subplot(1,3,3)\n",
    "fig = plt.imshow( plt.imread( \"exercise_04_results_for_reference/TM_only_exposure_result.png\" ), interpolation = 'catrom' )\n",
    "plt.axis('off')\n",
    "plt.title(\"Reference Result\\nfor Exposure = -1\");\n"
   ]
  },
  {
   "cell_type": "markdown",
   "metadata": {},
   "source": [
    "### 4.1.3 Change contrast\n",
    "\n",
    "Finish the anonymous function TM_Contrast that changes the contrast of an image:\n",
    "\n",
    "\\begin{equation*}\n",
    "\\epsilon_M \\text{ is your machine expsilon} \\\\ \\\\\n",
    "c_{pivot} = median(x) \\\\ \\\\\n",
    "y = 2^{(\\log_2(\\max(\\epsilon_M, x)) - \\log_2(c_{pivot})) * P_{contrast} + \\log_2(c_{pivot})} \\\\ \\\\\n",
    "x\\in\\mathbb{R}^+, P_{contrast}\\in\\mathbb{R}^+\\end{equation*}"
   ]
  },
  {
   "cell_type": "code",
   "execution_count": null,
   "metadata": {},
   "outputs": [],
   "source": [
    "# We typically need some additional contrast to like images\n",
    "contrast = 1.3\n",
    "\n",
    "def tmContrast(x, mid_con):\n",
    "    return np.power(2, (np.log2(np.maximum(np.finfo(float).eps, x)) - np.log2(np.median(x))) * mid_con + np.log2(np.median(x))) #R return # Your code here\n",
    "\n",
    "# Plot\n",
    "plt.subplot(1,3,1)\n",
    "x = np.logspace(-6, 2)\n",
    "curvePlot(x, tmContrast(x, contrast).clip(0.0,1.0))\n",
    "\n",
    "plt.subplot(1,3,2)\n",
    "plt.imshow(lin2srgb(tmContrast(img, contrast).clip(0.0,1.0)), interpolation = 'catrom')\n",
    "plt.title(\"Your Result\");\n",
    "\n",
    "plt.subplot(1,3,3)\n",
    "fig = plt.imshow( plt.imread( \"exercise_04_results_for_reference/TM_only_contrast_result.png\" ), interpolation = 'catrom' )\n",
    "plt.axis('off')\n",
    "plt.title(\"Reference Result\\nfor Contrast = 1.3\");"
   ]
  },
  {
   "cell_type": "markdown",
   "metadata": {},
   "source": [
    "### 4.1.4 Combining exposure and contrast\n",
    "\n",
    "Play with exposure and contrast and observe how the combined function behaves."
   ]
  },
  {
   "cell_type": "code",
   "execution_count": null,
   "metadata": {},
   "outputs": [],
   "source": [
    "# Let's combine contrast and exposure by conatenating both functions\n",
    "contrast = 1.3\n",
    "exposure = -2.5\n",
    "\n",
    "def tmCombined(x, exposure, contrast):\n",
    "    return tmContrast( tmExposure(x, exposure), contrast )\n",
    "\n",
    "# Plot\n",
    "plt.subplot(1,3,1)\n",
    "x = np.logspace(-6, 2)\n",
    "curvePlot(x, tmCombined(x, exposure, contrast).clip(0.0,1.0))\n",
    "\n",
    "plt.subplot(1,3,2)\n",
    "plt.imshow(lin2srgb( tmCombined(img, exposure, contrast).clip(0.0,1.0)), interpolation = 'catrom')\n",
    "plt.title(\"Your Result\");\n",
    "\n",
    "plt.subplot(1,3,3)\n",
    "fig = plt.imshow( plt.imread( \"exercise_04_results_for_reference/TM_exposure_and_contrast_result.png\" ), interpolation = 'catrom' )\n",
    "plt.axis('off')\n",
    "plt.title(\"Reference Result\\nfor Exposure = -2.5\\n and Contrast = 1.3\");"
   ]
  },
  {
   "cell_type": "markdown",
   "metadata": {},
   "source": [
    "### 4.1.5 A method for lowlight compression\n",
    "\n",
    "Finish the anonymous function LowLightCompression:\n",
    "\n",
    "\\begin{equation*}\n",
    "y = x + 2^{-P_{stops\\_below\\_white}} \\\\ \\\\\n",
    "x\\in\\mathbb{R}^+, P_{stops\\_below\\_white}\\in\\mathbb{R}^+\n",
    "\\end{equation*}\n",
    "\n",
    "This has the same result as adding a constant amount of flare."
   ]
  },
  {
   "cell_type": "code",
   "execution_count": null,
   "metadata": {},
   "outputs": [],
   "source": [
    "# The blacks look a little crushed. Maybe compress them using the formula above?\n",
    "contrast = 1.3\n",
    "exposure = 0\n",
    "stops_below_white = 8\n",
    "\n",
    "def tmLowlightCompression(x, stops_below_white):\n",
    "    return x + np.power(2.0, 0.0-stops_below_white) #R return # Your code here\n",
    "\n",
    "def tmCombined(x, exposure, contrast, stops_below_white):\n",
    "    return tmLowlightCompression(tmContrast(tmExposure(x, exposure), contrast), stops_below_white) #R return # Your code here\n",
    "\n",
    "# Plot\n",
    "plt.subplot(1,3,1)\n",
    "x = np.logspace(-6, 2)\n",
    "curvePlot(x, tmCombined(x, exposure, contrast, stops_below_white).clip(0.0,1.0))\n",
    "\n",
    "plt.subplot(1,3,2)\n",
    "plt.imshow(lin2srgb( tmCombined(img, exposure, contrast, stops_below_white).clip(0.0,1.0)), interpolation = 'catrom')\n",
    "plt.title(\"Your Result\");\n",
    "\n",
    "plt.subplot(1,3,3)\n",
    "fig = plt.imshow( plt.imread( \"exercise_04_results_for_reference/TM_exposure_contrast_and_lowlightComp_result.png\" ), interpolation = 'catrom' )\n",
    "plt.axis('off')\n",
    "plt.title(\"Reference Result\\nfor Exposure = 0,\\nContrast = 1.3 and\\nStops below white = 8\");"
   ]
  },
  {
   "cell_type": "markdown",
   "metadata": {},
   "source": [
    "### 4.1.6 A method for highlight compression\n",
    "\n",
    "Finish the anonymous function HighLightCompression:\n",
    "\\begin{equation*}\n",
    "y = \\frac{x}{1 + x} ~, ~ ~ ~ ~ \n",
    "x\\in\\mathbb{R}^+\n",
    "\\end{equation*}\n",
    "\n",
    "Find the values for the three parameters contrast, exposure and stopsBelowWhite that result in a pleasing rendering for you."
   ]
  },
  {
   "cell_type": "code",
   "execution_count": null,
   "metadata": {},
   "outputs": [],
   "source": [
    "# Now that we can see the inside of the house - how about the highlights?\n",
    "contrast = 1.3\n",
    "exposure = 0\n",
    "stops_below_white = 8\n",
    "\n",
    "def tmHighlightCompression(x):\n",
    "    return x / (x + 1) #R return # Your code here\n",
    "\n",
    "def tmCombined(x, exposure, contrast, stops_below_white):\n",
    "    return tmHighlightCompression(tmLowlightCompression(tmContrast(tmExposure(x, exposure), contrast), stops_below_white))\n",
    "\n",
    "# Plot\n",
    "plt.subplot(1,3,1)\n",
    "x = np.logspace(-6, 2)\n",
    "curvePlot(x, tmCombined(x, exposure, contrast, stops_below_white).clip(0.0,1.0))\n",
    "\n",
    "plt.subplot(1,3,2)\n",
    "plt.imshow(lin2srgb(tmCombined(img, exposure, contrast, stops_below_white).clip(0.0,1.0)), interpolation = 'catrom')\n",
    "plt.title(\"Your Result\");\n",
    "\n",
    "plt.subplot(1,3,3)\n",
    "fig = plt.imshow( plt.imread( \"exercise_04_results_for_reference/TM_exposure_contrast_lowlightComp_and_highlightComp_result.png\" ), interpolation = 'catrom' )\n",
    "plt.axis('off')\n",
    "plt.title(\"Reference Result\\nfor Exposure = 0,\\n Contrast = 1.3,\\nStops below white = 8 and\\nHighlight Compression\");"
   ]
  },
  {
   "cell_type": "markdown",
   "metadata": {},
   "source": [
    "### 4.1.7 Tone mapping RGB vs luma\n",
    "\n",
    "Compare and describe the different results for 5.1.6 and 5.1.7. Explain why mapping intensity gives a different result than mapping the individual channels R, G and B."
   ]
  },
  {
   "cell_type": "code",
   "execution_count": null,
   "metadata": {
    "tags": []
   },
   "outputs": [],
   "source": [
    "# Explain why mapping the idividual r,g,b color channels can introduce hue shifts. Let's try to only map luminance and add the original color to the mapped luminance afeter tonemapping\n",
    "#\n",
    "#\n",
    "\n",
    "contrast = 1.3\n",
    "exposure = 0\n",
    "stops_below_white = 8\n",
    "\n",
    "hdr_lum = 0.2125 * img[:,:,0] + 0.7154 * img[:,:,1] + 0.0721 * img[:,:,2]  #R hdr_lum =  # Your code here\n",
    "sdr_lum = tmCombined(hdr_lum, exposure, contrast, stops_below_white).clip(0.0,1.0)  #R sdr_lum =  # Your code here\n",
    "hdr_lum = np.maximum(hdr_lum, np.finfo(float).eps)  # Limit hdr-luminance to only have values above eps\n",
    "\n",
    "tonemapped_rgb = img / np.tile(hdr_lum[:,:,None], (1,1,3)) * np.tile(sdr_lum[:,:,None], (1,1,3)) #R tonemapped_rgb =  # Your code here\n",
    "\n",
    "# Plot\n",
    "plt.subplot(1,3,1)\n",
    "x = np.logspace(-6, 2)\n",
    "curvePlot(x, tmCombined(x, exposure, contrast, stops_below_white).clip(0.0,1.0))\n",
    "\n",
    "plt.subplot(1,3,2)\n",
    "plt.imshow( lin2srgb( tonemapped_rgb.clip(0.0,1.0) ) )\n",
    "plt.title(\"Your Result\");\n",
    "\n",
    "plt.subplot(1,3,3)\n",
    "fig = plt.imshow( plt.imread( \"exercise_04_results_for_reference/TM_exposure_contrast_lowlightComp_and_highlightComp_on_luminance_result.png\" ) )\n",
    "plt.axis('off')\n",
    "plt.title(\"Reference Result\\nfor Exposure = 0,\\n Contrast = 1.3,\\nStops below white = 8 and\\nHighlight Compression, all\\non luminance\");\n",
    "\n",
    "# What are the visual differences between mapping r,g,b individually and only mapping luminance. Do the highlights and midtones react differently? Explain why.\n",
    "#\n",
    "#\n",
    "#"
   ]
  },
  {
   "cell_type": "markdown",
   "metadata": {},
   "source": [
    "## 4.2 Color grading\n",
    "\n",
    "Color grading systems have a large number of specialized grading controls. The most basic ones are specified in the ASC document: '*ASC Color Decision List (ASC CDL) Transfer Functions and Interchange Syntax*'. \n",
    "* Implement the functions (in the order proposed in the ASC-CDL document. Remember that Slope, Offset and Power can have different values for R, G and B.)\n",
    "  * Slope\n",
    "  * Offset\n",
    "  * Power\n",
    "  * Saturation\n",
    "* Display the Haus image above and play with the grading controls - after tonemapping and before tonemapping."
   ]
  },
  {
   "cell_type": "code",
   "execution_count": null,
   "metadata": {},
   "outputs": [],
   "source": [
    "# Implement ASC-CDL Formulas\n",
    "def luma(x):\n",
    "    return 0.2126 * x[:,:,0] + 0.7152 * x[:,:,1] + 0.0722 * x[:,:,2] #R return  # Your code here\n",
    "\n",
    "def ascSlope(x, slope):\n",
    "    return np.concatenate(( (x[:,:,0] * slope[0])[:,:,None], #R return  # Your code here\n",
    "                            (x[:,:,1] * slope[1])[:,:,None], #R \n",
    "                            (x[:,:,2] * slope[2])[:,:,None] ), axis=2) #R \n",
    "\n",
    "def ascOffset(x, offset):\n",
    "    return np.concatenate(( (x[:,:,0] + offset[0])[:,:,None], #R return  # Your code here\n",
    "                            (x[:,:,1] + offset[1])[:,:,None], #R \n",
    "                            (x[:,:,2] + offset[2])[:,:,None] ), axis=2) #R \n",
    "\n",
    "def ascPower(x, power):\n",
    "    return np.concatenate(( np.power( x[:,:,0].clip(0.0,1.0), power[0])[:,:,None], #R return  # Your code here\n",
    "                            np.power( x[:,:,1].clip(0.0,1.0), power[1])[:,:,None], #R \n",
    "                            np.power( x[:,:,2].clip(0.0,1.0), power[2])[:,:,None] ), axis=2) #R \n",
    "\n",
    "def ascSaturation(x, saturation):\n",
    "    return np.tile( luma(x)[:,:,None], (1,1,3)) + saturation * (x - np.tile(luma(x)[:,:,None], (1,1,3) ) ) #R return  # Your code here\n",
    "\n",
    "def ascGrade(x, slope, offset, power, saturation):\n",
    "    return ascSaturation(ascPower(ascOffset(ascSlope(x, slope), offset), power), saturation) #R return  # Your code here (concatenate all in the right order)"
   ]
  },
  {
   "cell_type": "code",
   "execution_count": null,
   "metadata": {
    "tags": []
   },
   "outputs": [],
   "source": [
    "# Grade after tonemapping\n",
    "\n",
    "# Tonemapping Params:\n",
    "exposure = 0\n",
    "contrast = 1.3\n",
    "stops_below_white = 8\n",
    "\n",
    "# Grading Params\n",
    "slope  = [1.2, 1.2, 1.2]\n",
    "offset = [-0.07, -0.07, -0.07]\n",
    "power  = [1.2, 1.2, 1.2]\n",
    "saturation = 1.3\n",
    "\n",
    "def tmCombined(x, exposure, contrast, stops_below_white):\n",
    "    return tmHighlightCompression( tmLowlightCompression( tmContrast( tmExposure(x, exposure), contrast), stops_below_white) )\n",
    "\n",
    "plt.imshow( ascGrade( lin2srgb( tmCombined( img, exposure, contrast, stops_below_white ) ), slope, offset, power, saturation ).clip(0.0,1.0) );"
   ]
  },
  {
   "cell_type": "code",
   "execution_count": null,
   "metadata": {},
   "outputs": [],
   "source": [
    "# These are the ARRI LogCv3 Formulas\n",
    "def lin2logc(x):\n",
    "    return np.multiply(x > 0.010591, 0.24719 * np.log10(5.555556 * x + 0.052272) + 0.385537) + np.multiply(x <= 0.010591, 5.367655 * x + 0.092809)\n",
    "def logc2lin(x):\n",
    "    return np.multiply(x > 0.149659, (np.power(10.0, (x - 0.385537) / 0.247189) - 0.052272) / 5.555556) + np.multiply(x <= 0.149659, (x - 0.092809) / 5.367650)"
   ]
  },
  {
   "cell_type": "code",
   "execution_count": null,
   "metadata": {
    "tags": []
   },
   "outputs": [],
   "source": [
    "slope  = [1.2, 1.2, 1.2]\n",
    "offset = [-0.07, -0.07, -0.07]\n",
    "power  = [1.2, 1.2, 1.2]\n",
    "sat    = 1.3\n",
    "\n",
    "img_graded = ascGrade( lin2logc( img ), slope, offset, power, sat )\n",
    "img_graded[np.isnan(img_graded)] = 0.0 # why are we nan here?\n",
    "\n",
    "plt.subplot(1,2,1)\n",
    "plt.imshow( lin2srgb( tmCombined( logc2lin( img_graded ), exposure, contrast, stops_below_white).clip(0.0,1.0) ) )\n",
    "plt.title(\"Grading in LogC nonlinearity before mapping\")\n",
    "\n",
    "plt.subplot(1,2,2)\n",
    "plt.imshow( ascGrade( lin2srgb( tmCombined( img, exposure, contrast, stops_below_white).clip(0.0,1.0)), slope, offset, power, sat).clip(0.0,1.0) );\n",
    "plt.title(\"Grading in sRGB nonlinearity after mapping\");\n",
    "\n",
    "# What do you like about grading before the mapping, what do you prefer about grading after the mapping?\n",
    "#\n",
    "#"
   ]
  },
  {
   "cell_type": "markdown",
   "metadata": {},
   "source": [
    "## 4.3 Bonus: Implement another TMO\n",
    "\n",
    "Maybe one of these:\n",
    "* `TM_Biswas_Pattanaik05`: Biswas, K. K., & Pattanaik, S. (2005). A simple spatial tone mapping operator for high dynamic range images. Proc. IS&T/SID’s 13th Color Imaging Conference.\n",
    "* `TM_Drago03`: Drago, F., Myszkowski, K., Annen, T., & Chiba, N. (2003). Adaptive Logarithmic Mapping For Displaying High Contrast Scenes. Computer Graphics Forum.\n",
    "* `TM_Uncharted2`: Hable, J. (2010). Uncharted 2: HDR lighting. Game Developers Conference.\n",
    "\n",
    "Or another tone mapping operator you are interested in. Wikipedia has a great overview on tone mapping operators."
   ]
  },
  {
   "cell_type": "code",
   "execution_count": null,
   "metadata": {},
   "outputs": [],
   "source": []
  }
 ],
 "metadata": {
  "kernelspec": {
   "display_name": "Python 3",
   "language": "python",
   "name": "python3"
  },
  "language_info": {
   "codemirror_mode": {
    "name": "ipython",
    "version": 3
   },
   "file_extension": ".py",
   "mimetype": "text/x-python",
   "name": "python",
   "nbconvert_exporter": "python",
   "pygments_lexer": "ipython3",
   "version": "3.7.7-final"
  }
 },
 "nbformat": 4,
 "nbformat_minor": 2
}