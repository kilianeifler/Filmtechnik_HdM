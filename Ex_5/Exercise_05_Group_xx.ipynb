{
 "cells": [
  {
   "cell_type": "markdown",
   "metadata": {},
   "source": [
    "# Exercise 5 - Image analysis and compression"
   ]
  },
  {
   "cell_type": "code",
   "execution_count": null,
   "metadata": {},
   "outputs": [],
   "source": [
    "#loading a few python modules used for image processing, io and plotting\n",
    "\n",
    "import numpy as np\n",
    "import numpy.matlib\n",
    "from matplotlib import pyplot as plt\n",
    "from scipy import ndimage\n",
    "from scipy import misc\n",
    "from scipy import fftpack\n",
    "import skimage\n",
    "import imageio\n",
    "\n",
    "from ipywidgets import interact, interactive, fixed, interact_manual\n",
    "import ipywidgets as widgets\n",
    "\n",
    "from accum import accum\n",
    "\n",
    "# for 16 bit PNG support in imageio if needed, imageio.plugins.freeimage.download() might need to be run once per system (or exr/hdr/pgm/ppm support)"
   ]
  },
  {
   "cell_type": "code",
   "execution_count": null,
   "metadata": {
    "tags": []
   },
   "outputs": [],
   "source": [
    "# Load our favorite test image\n",
    "peppersImg = imageio.imread('peppers.png')\n",
    "peppersImg = np.float64( peppersImg ) / 255\n",
    "\n",
    "# Create standard 75% color bars with the width of the peppers image and the following height:\n",
    "bars_and_gradient_height = 64\n",
    "\n",
    "# Your code here\n",
    "# Your code here\n",
    "colorBar75 = # Your code here\n",
    "\n",
    "# Create a gradient from 0...1 with the width of the peppers image and the same height as the color bars\n",
    "gradient = # Your code here\n",
    "\n",
    "# Display shapes to see if they fit together\n",
    "print( peppersImg.shape )\n",
    "print( colorBar75.shape )\n",
    "print( gradient.shape )"
   ]
  },
  {
   "cell_type": "code",
   "execution_count": null,
   "metadata": {
    "tags": []
   },
   "outputs": [],
   "source": [
    "# Concatenate and show Image\n",
    "plt.subplot(1,2,1)\n",
    "img = np.concatenate( ( peppersImg, colorBar75, gradient), axis=0 )\n",
    "plt.imshow( img );\n",
    "plt.title(\"Your Image\")\n",
    "plt.subplot(1,2,2)\n",
    "plt.imshow( plt.imread( \"exercise_05_results_for_reference/peppers_bar_gradient.png\" ), interpolation = 'catrom' );\n",
    "plt.title(\"Reference Image\\nwith color bars\\nand gradient\");"
   ]
  },
  {
   "cell_type": "markdown",
   "metadata": {},
   "source": [
    "## 5.1 Histogram\n",
    "\n",
    "Histograms are useful to see the distribution of code values between blacks, mid tones and highlights and to eliminate color casts. They can also be used to detect reduced quantization."
   ]
  },
  {
   "cell_type": "code",
   "execution_count": null,
   "metadata": {},
   "outputs": [],
   "source": [
    "# Finish the function `calculateHistogramm` by looping over all bins and not using the Python histogram functions.\n",
    "def calculateHistogramm(img, bins = 256, minval = 0.0, maxval = 1.0):\n",
    "    # Your code here\n",
    "    # Your code here\n",
    "    # Your code here\n",
    "    # Your code here\n",
    "    # Your code here\n",
    "    # Your code here\n",
    "    # Your code here\n",
    "    # Your code here\n",
    "    # Your code here\n",
    "    # Your code here\n",
    "    # Your code here\n",
    "    # Your code here\n",
    "    # Your code here\n",
    "    return result"
   ]
  },
  {
   "cell_type": "code",
   "execution_count": null,
   "metadata": {},
   "outputs": [],
   "source": [
    "# Apply the ASC-CDL grading controls from 4.2 to get an intuition how the histogram behaves.\n",
    "# Your code here\n",
    "# Your code here\n",
    "# Your code here\n",
    "# Your code here\n",
    "gradedImg = # Your code here\n",
    "\n",
    "pepper_hist = calculateHistogramm( gradedImg )\n",
    "hist_range  = np.arange(0, pepper_hist.shape[0])\n",
    "\n",
    "# Display\n",
    "plt.figure(figsize=(20,5))\n",
    "plt.subplot(2,2,(1,3))\n",
    "plt.imshow( gradedImg )\n",
    "plt.subplot(2,2,2)\n",
    "img = np.concatenate( ( peppersImg, colorBar75, gradient), axis=0 )\n",
    "plt.bar(hist_range, pepper_hist);\n",
    "plt.title(\"Your Histogram\")\n",
    "plt.subplot(2,2,4)\n",
    "plt.imshow( plt.imread( \"exercise_05_results_for_reference/histogram.png\" ), interpolation = 'catrom' );\n",
    "plt.axis('off')\n",
    "plt.title(\"Reference Histogram if no grading is applied\");"
   ]
  },
  {
   "cell_type": "code",
   "execution_count": null,
   "metadata": {},
   "outputs": [],
   "source": [
    "\n",
    "# Play with the histogram resolution to detect that peppers.png seems to be 8 bits.\n",
    "# Increasing the number of bins is one way to do this, but setting minval and maxval to appropriate numbers may be more clever. \n",
    "# Your code here\n",
    "# Your code here\n",
    "# Your code here\n",
    "# Your code here\n",
    "# Your code here\n",
    "# Your code here\n",
    "# Your code here\n",
    "# Your code here\n"
   ]
  },
  {
   "cell_type": "code",
   "execution_count": null,
   "metadata": {},
   "outputs": [],
   "source": [
    "# Try to hide the fact that peppers.png is only 8bits by resizing it.\n",
    "# What may be a better choice than resizing? Would this solve visible quantization artifacts in the image?\n",
    "# Your code here\n",
    "# Your code here\n",
    "# Your code here\n",
    "# Your code here\n",
    "# Your code here\n",
    "# Your code here\n",
    "# Your code here\n",
    "# Your code here"
   ]
  },
  {
   "cell_type": "markdown",
   "metadata": {},
   "source": [
    "## 5.2 Waveform\n",
    "\n",
    "A waveform monitor can be thought as being histogram per column, but the height of the histogram bar is now shown as pixel intensity. "
   ]
  },
  {
   "cell_type": "code",
   "execution_count": null,
   "metadata": {},
   "outputs": [],
   "source": [
    "# Finish the function `calculateWaveform`.\n",
    "def calculateWaveform(img, bins = 256, minval = 0.0, maxval = 1.0):\n",
    "    # Your code here\n",
    "    # Your code here\n",
    "    # Your code here\n",
    "    # Your code here\n",
    "    # Your code here\n",
    "    # Your code here\n",
    "    # Your code here\n",
    "    # Your code here\n",
    "    # Your code here\n",
    "    # Your code here\n",
    "    # Your code here\n",
    "    # Your code here\n",
    "    # Your code here\n",
    "    # Your code here\n",
    "    # Your code here\n",
    "    # Your code here\n",
    "    # Your code here\n",
    "    # Your code here\n",
    "    # Your code here\n",
    "    # Your code here\n",
    "    return np.flip(result, 0)"
   ]
  },
  {
   "cell_type": "code",
   "execution_count": null,
   "metadata": {},
   "outputs": [],
   "source": [
    "# Apply the grading controls from 4.2 and get an intuition how the waveform behaves.\n",
    "# Your code here\n",
    "# Your code here\n",
    "# Your code here\n",
    "# Your code here\n",
    "gradedImg = # Your code here\n",
    "\n",
    "wf = calculateWaveform(gradedImg, bins=256)\n",
    "plt.subplot(1,2,1)\n",
    "plt.imshow( np.concatenate( ( gradedImg, wf), axis=0 ) );\n",
    "plt.title(\"Your image\");\n",
    "plt.subplot(1,2,2)\n",
    "plt.imshow( plt.imread( \"exercise_05_results_for_reference/img_and_waveform.png\" ), interpolation = 'catrom' );\n",
    "plt.axis('off')\n",
    "plt.title(\"Reference Image and Waveform\\nif no grading is applied\");"
   ]
  },
  {
   "cell_type": "code",
   "execution_count": null,
   "metadata": {},
   "outputs": [],
   "source": [
    "# Change the bins to 512. How can you detect limited tonal resolution using a waveform? Did you already observe this in grading?\n",
    "# Your code here\n",
    "# Your code here\n",
    "# Your code here\n",
    "# Your code here"
   ]
  },
  {
   "cell_type": "markdown",
   "metadata": {},
   "source": [
    "## 5.3 Vectorscope\n",
    "Colorist often use the vectorscope to adjust color balance. "
   ]
  },
  {
   "cell_type": "code",
   "execution_count": null,
   "metadata": {},
   "outputs": [],
   "source": [
    "# Finish the function `calculateVectorscope`.\n",
    "# Hint: For calculating the 2D histogram ‘accum’ will be much faster compared to two loops\n",
    "def calculateVectorscope(img, bins=256):\n",
    "    # Your code here\n",
    "    # Your code here\n",
    "    # Your code here\n",
    "    # Your code here\n",
    "    # Your code here\n",
    "    # Your code here\n",
    "    # Your code here\n",
    "    # Your code here\n",
    "    # Your code here\n",
    "    # Your code here\n",
    "    # Your code here\n",
    "    # Your code here\n",
    "    # Your code here\n",
    "    # Your code here\n",
    "    # Your code here\n",
    "    return np.flip(result, axis=0)"
   ]
  },
  {
   "cell_type": "code",
   "execution_count": null,
   "metadata": {},
   "outputs": [],
   "source": [
    "# Add some noise to the image before feeding it into the vectorscope so that the color bars do not only end up at the same pixel position.\n",
    "noise_img = img + (np.random.randn(img.shape[0], img.shape[1], 3) - 0.5) / 256\n",
    "\n",
    "vectorscopeOutput = calculateVectorscope( noise_img )\n",
    "\n",
    "plt.subplot(1,2,1)\n",
    "plt.imshow(np.log2(vectorscopeOutput + 1) / np.log2(np.amax( vectorscopeOutput ) + 1), cmap='gray', vmin=0, vmax=1.0)\n",
    "plt.title(\"Your Vectorscope\");\n",
    "plt.subplot(1,2,2)\n",
    "plt.imshow( plt.imread( \"exercise_05_results_for_reference/vectorscope.png\" ), interpolation = 'catrom' );\n",
    "plt.axis('off')\n",
    "plt.title(\"Reference Vectorscope\\nif no grading is applied\");"
   ]
  },
  {
   "cell_type": "code",
   "execution_count": null,
   "metadata": {},
   "outputs": [],
   "source": [
    "# Apply the grading controls from 4.2 and get an intuition how the vectorscope behaves. Especially try saturation\n",
    "# Your code here\n",
    "# Your code here\n",
    "# Your code here\n",
    "# Your code here\n",
    "gradedImg = # Your code here\n",
    "# Your code here\n",
    "# Your code here\n",
    "# Your code here\n",
    "# Your code here"
   ]
  },
  {
   "cell_type": "code",
   "execution_count": null,
   "metadata": {},
   "outputs": [],
   "source": []
  }
 ],
 "metadata": {
  "language_info": {
   "name": "python",
   "pygments_lexer": "ipython3",
   "version": "3.7.3-final"
  },
  "kernelspec": {
   "name": "python3",
   "display_name": "Python 3"
  }
 },
 "nbformat": 4,
 "nbformat_minor": 2
}